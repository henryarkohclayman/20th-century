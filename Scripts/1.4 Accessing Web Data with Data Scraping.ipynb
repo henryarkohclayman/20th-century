{
 "cells": [
  {
   "cell_type": "markdown",
   "id": "8dd4da72-2354-40c3-969c-43c6406658ac",
   "metadata": {},
   "source": [
    "Importing libraries"
   ]
  },
  {
   "cell_type": "code",
   "execution_count": 2,
   "id": "8957a176-1aba-4c47-a931-f43be06b5b92",
   "metadata": {},
   "outputs": [
    {
     "name": "stdout",
     "output_type": "stream",
     "text": [
      "✅ All libraries successfully imported!\n"
     ]
    }
   ],
   "source": [
    "import requests\n",
    "import bs4\n",
    "import selenium\n",
    "import pandas as pd\n",
    "import matplotlib\n",
    "from webdriver_manager.chrome import ChromeDriverManager\n",
    "\n",
    "print(\"✅ All libraries successfully imported!\")\n"
   ]
  },
  {
   "cell_type": "markdown",
   "id": "a22a1bfb-df12-47bb-bec9-ac349a8f6e17",
   "metadata": {},
   "source": [
    "Selenium Setup in Jupyter Notebook"
   ]
  },
  {
   "cell_type": "code",
   "execution_count": 7,
   "id": "43341b7a-6b73-4ab9-baee-70143d909e51",
   "metadata": {},
   "outputs": [],
   "source": [
    "\n",
    "# Setup Selenium Chrome Driver\n",
    "from selenium import webdriver\n",
    "from selenium.webdriver.common.by import By\n",
    "\n",
    "driver = webdriver.Chrome(executable_path=r\"C:\\Program Files\\Google\\Chrome\\Application\\chromedriver.exe\")"
   ]
  },
  {
   "cell_type": "code",
   "execution_count": 9,
   "id": "3d892efe-f01b-4182-b0b3-4e3683af7a3f",
   "metadata": {},
   "outputs": [],
   "source": [
    "# Load the web page using the source URL\n",
    "driver.get(\"https://en.wikipedia.org/wiki/Key_events_of_the_20th_century\")"
   ]
  },
  {
   "cell_type": "code",
   "execution_count": 11,
   "id": "646c033c-ebda-4420-a0ac-3cb7a4af6da5",
   "metadata": {},
   "outputs": [],
   "source": [
    "# Scrape the page HTML and parse it\n",
    "from bs4 import BeautifulSoup\n",
    "html = driver.page_source\n",
    "soup = BeautifulSoup(html, 'html.parser')"
   ]
  },
  {
   "cell_type": "code",
   "execution_count": 13,
   "id": "99158dc9-17de-4013-abcb-88d925531b5c",
   "metadata": {},
   "outputs": [],
   "source": [
    "# Extract and save the full text\n",
    "text = soup.get_text().encode('utf-8')"
   ]
  },
  {
   "cell_type": "code",
   "execution_count": 17,
   "id": "db35b22a-c62b-4f87-9215-8492520998de",
   "metadata": {},
   "outputs": [],
   "source": [
    "with open(\"Key_Events_20th_Century.txt\", \"wb\") as f:\n",
    "    f.write(text)"
   ]
  },
  {
   "cell_type": "code",
   "execution_count": null,
   "id": "6c2217a0-a41d-4109-a7a2-4683f3a90d61",
   "metadata": {},
   "outputs": [],
   "source": []
  }
 ],
 "metadata": {
  "kernelspec": {
   "display_name": "Python [conda env:20th_century]",
   "language": "python",
   "name": "conda-env-20th_century-py"
  },
  "language_info": {
   "codemirror_mode": {
    "name": "ipython",
    "version": 3
   },
   "file_extension": ".py",
   "mimetype": "text/x-python",
   "name": "python",
   "nbconvert_exporter": "python",
   "pygments_lexer": "ipython3",
   "version": "3.13.5"
  }
 },
 "nbformat": 4,
 "nbformat_minor": 5
}
