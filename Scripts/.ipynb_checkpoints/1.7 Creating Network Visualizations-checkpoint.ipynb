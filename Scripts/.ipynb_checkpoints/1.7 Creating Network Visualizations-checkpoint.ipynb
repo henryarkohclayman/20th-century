{
 "cells": [
  {
   "cell_type": "markdown",
   "id": "312cf2bb-95eb-4166-ab3f-445dcace104c",
   "metadata": {},
   "source": [
    "Importing libraries"
   ]
  },
  {
   "cell_type": "code",
   "execution_count": 1,
   "id": "ce1fb7d8-f87c-4fd6-8e35-815517147aaf",
   "metadata": {},
   "outputs": [
    {
     "name": "stdout",
     "output_type": "stream",
     "text": [
      "Note: to be able to use all crisp methods, you need to install some additional packages:  {'bayanpy', 'wurlitzer', 'infomap', 'graph_tool'}\n",
      "Note: to be able to use all crisp methods, you need to install some additional packages:  {'ASLPAw', 'pyclustering'}\n",
      "Note: to be able to use all crisp methods, you need to install some additional packages:  {'wurlitzer', 'infomap'}\n"
     ]
    }
   ],
   "source": [
    "import pandas as pd\n",
    "import numpy as np\n",
    "import networkx as nx\n",
    "import matplotlib.pyplot as plt\n",
    "import seaborn as sns\n",
    "from pyvis.network import Network\n",
    "from cdlib import algorithms"
   ]
  },
  {
   "cell_type": "markdown",
   "id": "53801a2d-def1-4748-8eb0-5dc93c960fa3",
   "metadata": {},
   "source": [
    "Load Relationship Data"
   ]
  },
  {
   "cell_type": "code",
   "execution_count": null,
   "id": "d1d29e88-b20a-4375-866c-10e35be1fd17",
   "metadata": {},
   "outputs": [],
   "source": [
    "rel_df = pd.read_csv(\"../Data/country_relationships.csv\")\n",
    "rel_df.head()"
   ]
  },
  {
   "cell_type": "code",
   "execution_count": null,
   "id": "63a74690-3925-4448-b973-39c293316e05",
   "metadata": {},
   "outputs": [],
   "source": [
    "# Create graph object from dataframe\n",
    "G = nx.from_pandas_edgelist(rel_df, source=\"source\", target=\"target\", edge_attr=\"value\", create_using=nx.Graph())"
   ]
  },
  {
   "cell_type": "code",
   "execution_count": null,
   "id": "8c0685c5-d0ce-456a-9222-d6fceb02e551",
   "metadata": {},
   "outputs": [],
   "source": [
    "# Static Network Graph with NetworkX\n",
    "plt.figure(figsize=(10, 10))\n",
    "pos = nx.kamada_kawai_layout(G)\n",
    "nx.draw(G, with_labels=True, node_color='skyblue', edge_cmap=plt.cm.Blues, pos=pos)\n",
    "plt.title(\"Static Network of Country Relationships\")\n",
    "plt.show()"
   ]
  },
  {
   "cell_type": "code",
   "execution_count": null,
   "id": "645f8658-a469-4627-9525-fa6c0e3cfefc",
   "metadata": {},
   "outputs": [],
   "source": [
    "# Interactive Network Graph with Pyvis\n",
    "net = Network(notebook=True, width=\"1000px\", height=\"800px\", bgcolor=\"#222222\", font_color=\"white\")\n",
    "node_degree = dict(G.degree)\n",
    "nx.set_node_attributes(G, node_degree, 'size')\n",
    "net.from_nx(G)\n",
    "net.show_buttons(filter_=True)\n",
    "net.repulsion()\n",
    "net.show(\"C:/Users/henry/OneDrive/20th-century/countries_network.html\")"
   ]
  },
  {
   "cell_type": "code",
   "execution_count": null,
   "id": "6086f198-46ed-462a-a879-c250fbae6678",
   "metadata": {},
   "outputs": [],
   "source": [
    "# Importing leidenalg\n",
    "import leidenalg\n",
    "import igraph"
   ]
  },
  {
   "cell_type": "code",
   "execution_count": null,
   "id": "f0b49108-4a66-47fe-adc9-0ebebd6cdbe2",
   "metadata": {},
   "outputs": [],
   "source": [
    "# Community Detection with Leiden Algorithm\n",
    "coms = algorithms.leiden(G)\n",
    "new_com = coms.to_node_community_map()\n",
    "dict_com = {k: v[0] for k, v in new_com.items()}\n",
    "nx.set_node_attributes(G, dict_com, 'group')"
   ]
  },
  {
   "cell_type": "code",
   "execution_count": null,
   "id": "92788b4a-42cd-4ef8-ad0f-656f99166dc6",
   "metadata": {},
   "outputs": [],
   "source": [
    "# Visualize Communities\n",
    "com_net = Network(notebook=True, width=\"1300px\", height=\"700px\", bgcolor=\"#222222\", font_color='white')\n",
    "com_net.from_nx(G)\n",
    "com_net.show_buttons(filter_=True)\n",
    "com_net.repulsion()\n",
    "com_net.show(\"C:/Users/henry/OneDrive/20th-century/countries_communities.html\")"
   ]
  },
  {
   "cell_type": "markdown",
   "id": "c9df8a7b-3926-4c6d-8a45-cdfe1d9ccf6e",
   "metadata": {},
   "source": [
    "The Leiden algorithm successfully grouped countries with historical or political associations. Some communities reflect World War alliances or Cold War blocks. This suggests clear geopolitical clustering based on interaction frequency.\n"
   ]
  },
  {
   "cell_type": "markdown",
   "id": "1b91a010-50a6-41bf-8da9-4355337db70a",
   "metadata": {},
   "source": [
    " Centrality Measures"
   ]
  },
  {
   "cell_type": "code",
   "execution_count": null,
   "id": "7cc5eff5-c02c-476e-a701-62a431078dda",
   "metadata": {},
   "outputs": [],
   "source": [
    "# Degree Centrality\n",
    "degree_dict = nx.degree_centrality(G)\n",
    "degree_df = pd.DataFrame.from_dict(degree_dict, orient='index', columns=['degree']).sort_values(by='degree', ascending=False)\n",
    "degree_df.plot(kind='bar', figsize=(12,6), title='Degree Centrality')\n",
    "plt.tight_layout()\n",
    "plt.show()"
   ]
  },
  {
   "cell_type": "code",
   "execution_count": null,
   "id": "b77fb821-9fb9-4b90-8ac0-1041a9638453",
   "metadata": {},
   "outputs": [],
   "source": [
    "# Closeness Centrality\n",
    "closeness_dict = nx.closeness_centrality(G)\n",
    "closeness_df = pd.DataFrame.from_dict(closeness_dict, orient='index', columns=['closeness']).sort_values(by='closeness', ascending=False)\n",
    "closeness_df.plot(kind='bar', figsize=(12,6), title='Closeness Centrality')\n",
    "plt.tight_layout()\n",
    "plt.show()"
   ]
  },
  {
   "cell_type": "code",
   "execution_count": null,
   "id": "2cd1c0cc-33b6-4a57-bae1-bce37396c06d",
   "metadata": {},
   "outputs": [],
   "source": [
    "# Betweenness Centrality\n",
    "betweenness_dict = nx.betweenness_centrality(G)\n",
    "betweenness_df = pd.DataFrame.from_dict(betweenness_dict, orient='index', columns=['betweenness']).sort_values(by='betweenness', ascending=False)\n",
    "betweenness_df.plot(kind='bar', figsize=(12,6), title='Betweenness Centrality')\n",
    "plt.tight_layout()\n",
    "plt.show()"
   ]
  },
  {
   "cell_type": "markdown",
   "id": "79a48222-247a-445c-882f-b4338bc376f7",
   "metadata": {},
   "source": [
    "Countries with high degree and closeness centrality likely played influential roles across multiple historical events. High betweenness values suggest nations that acted as intermediaries or strategic mediators."
   ]
  },
  {
   "cell_type": "code",
   "execution_count": null,
   "id": "003f358b-7f46-4ede-86af-c98efd1589e5",
   "metadata": {},
   "outputs": [],
   "source": []
  },
  {
   "cell_type": "code",
   "execution_count": null,
   "id": "83afc17a-5986-49c6-9956-fffedc7e4232",
   "metadata": {},
   "outputs": [],
   "source": []
  }
 ],
 "metadata": {
  "kernelspec": {
   "display_name": "Python [conda env:ner_env_310]",
   "language": "python",
   "name": "conda-env-ner_env_310-py"
  },
  "language_info": {
   "codemirror_mode": {
    "name": "ipython",
    "version": 3
   },
   "file_extension": ".py",
   "mimetype": "text/x-python",
   "name": "python",
   "nbconvert_exporter": "python",
   "pygments_lexer": "ipython3",
   "version": "3.10.18"
  }
 },
 "nbformat": 4,
 "nbformat_minor": 5
}
